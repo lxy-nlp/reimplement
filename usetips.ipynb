{
 "cells": [
  {
   "cell_type": "code",
   "execution_count": 4,
   "metadata": {},
   "outputs": [],
   "source": [
    "import torch\n",
    "import torch.nn as nn\n",
    "import torch.optim as optim"
   ]
  },
  {
   "cell_type": "code",
   "execution_count": null,
   "metadata": {},
   "outputs": [],
   "source": [
    "'''\n",
    "input_size：x的特征维度\n",
    "hidden_size：隐藏层的特征维度\n",
    "num_layers：lstm隐层的层数，默认为1\n",
    "bias：False则bih=0和bhh=0. 默认为True\n",
    "batch_first：True则输入输出的数据格式为 (batch, seq, feature)\n",
    "dropout：除最后一层，每一层的输出都进行dropout，默认为: 0\n",
    "bidirectional：True则为双向lstm默认为False\n",
    "输入：input, (h0, c0)\n",
    "输出：output, (hn,cn)\n",
    "输入数据格式：\n",
    "input(seq_len, batch, input_size)\n",
    "h0(num_layers * num_directions, batch, hidden_size)\n",
    "c0(num_layers * num_directions, batch, hidden_size)\n",
    "\n",
    "输出数据格式：\n",
    "output(seq_len, batch, hidden_size * num_directions)\n",
    "hn(num_layers * num_directions, batch, hidden_size)\n",
    "cn(num_layers * num_directions, batch, hidden_size)\n",
    "\n",
    "'''"
   ]
  },
  {
   "cell_type": "code",
   "execution_count": 7,
   "metadata": {
    "pycharm": {
     "name": "#%%\n"
    }
   },
   "outputs": [],
   "source": [
    "class RNN(nn.Module):\n",
    "    def __init__(self,in_dim,hidden_dim,n_layer,n_class,bidirectional=False):\n",
    "        super(RNN,self).__init__()\n",
    "        self.n_layer = n_layer\n",
    "        self.hidden_dim = hidden_dim\n",
    "        self.lstm = nn.LSTM(in_dim,hidden_dim,n_layer,bidirectional=bidirectional,batch_first=True)\n",
    "        self.direction = 2 if bidirectional else 1\n",
    "        self.classifier = nn.Linear(hidden_dim * self.direction,n_class)\n",
    "    def forward(self,x):\n",
    "        out,(h_n,c_n) = self.lstm(x)\n",
    "        res = self.classifier(out)\n",
    "        print(out.shape,h_n.shape,c_n.shape,res.shape)"
   ]
  },
  {
   "cell_type": "code",
   "execution_count": 8,
   "metadata": {},
   "outputs": [
    {
     "name": "stdout",
     "output_type": "stream",
     "text": [
      "torch.Size([5, 3, 40]) torch.Size([2, 5, 20]) torch.Size([2, 5, 20]) torch.Size([5, 3, 3])\n"
     ]
    }
   ],
   "source": [
    "rnn = RNN(10,20,1,3,True)\n",
    "x = torch.randn((5,3,10))\n",
    "rnn(x)"
   ]
  },
  {
   "cell_type": "code",
   "execution_count": null,
   "metadata": {},
   "outputs": [],
   "source": []
  }
 ],
 "metadata": {
  "kernelspec": {
   "display_name": "tor",
   "language": "python",
   "name": "tor"
  },
  "language_info": {
   "codemirror_mode": {
    "name": "ipython",
    "version": 3
   },
   "file_extension": ".py",
   "mimetype": "text/x-python",
   "name": "python",
   "nbconvert_exporter": "python",
   "pygments_lexer": "ipython3",
   "version": "3.6.5"
  },
  "pycharm": {
   "stem_cell": {
    "cell_type": "raw",
    "metadata": {
     "collapsed": false
    },
    "source": []
   }
  }
 },
 "nbformat": 4,
 "nbformat_minor": 1
}
